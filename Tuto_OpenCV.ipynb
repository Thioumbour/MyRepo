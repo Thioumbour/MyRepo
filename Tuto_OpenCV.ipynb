{
 "cells": [
  {
   "cell_type": "code",
   "execution_count": 1,
   "metadata": {},
   "outputs": [],
   "source": [
    "# import the necessary packages\n",
    "import imutils\n",
    "import cv2"
   ]
  },
  {
   "cell_type": "code",
   "execution_count": 2,
   "metadata": {},
   "outputs": [],
   "source": [
    "#load image\n",
    "image = cv2.imread(\"leufy.jpg\")"
   ]
  },
  {
   "cell_type": "code",
   "execution_count": 3,
   "metadata": {},
   "outputs": [
    {
     "name": "stdout",
     "output_type": "stream",
     "text": [
      "width=300, height=429, depth=3\n"
     ]
    }
   ],
   "source": [
    "#recuperate shape image\n",
    "(h, w, d) = image.shape\n",
    "print(\"width={}, height={}, depth={}\".format(w, h, d))"
   ]
  },
  {
   "cell_type": "code",
   "execution_count": 5,
   "metadata": {},
   "outputs": [
    {
     "data": {
      "text/plain": [
       "98"
      ]
     },
     "execution_count": 5,
     "metadata": {},
     "output_type": "execute_result"
    }
   ],
   "source": [
    "#show image\n",
    "cv2.imshow(\"Image\", image)\n",
    "cv2.waitKey(0)"
   ]
  },
  {
   "cell_type": "code",
   "execution_count": 4,
   "metadata": {},
   "outputs": [
    {
     "name": "stdout",
     "output_type": "stream",
     "text": [
      "R=101, G=52, B=22\n"
     ]
    }
   ],
   "source": [
    "#recuperate the RGB pixel located at x=50 y=100\n",
    "(B, G, R) = image[100, 50]\n",
    "print(\"R={}, G={}, B={}\".format(R, G, B))"
   ]
  },
  {
   "cell_type": "code",
   "execution_count": 5,
   "metadata": {},
   "outputs": [],
   "source": [
    "# extract a 100x100 pixel square ROI (Region of Interest) from the\n",
    "# input image starting at x=120,y=60 at ending at x=320,y=160\n",
    "roi = image[60:164, 120:220]"
   ]
  },
  {
   "cell_type": "code",
   "execution_count": 8,
   "metadata": {},
   "outputs": [
    {
     "data": {
      "text/plain": [
       "106"
      ]
     },
     "execution_count": 8,
     "metadata": {},
     "output_type": "execute_result"
    }
   ],
   "source": [
    "#show roi\n",
    "cv2.imshow(\"ROI\", roi)\n",
    "cv2.waitKey(0)"
   ]
  },
  {
   "cell_type": "code",
   "execution_count": 6,
   "metadata": {},
   "outputs": [],
   "source": [
    "# resize the image to 200x200px, ignoring aspect ratio\n",
    "resized = cv2.resize(image, (200, 200))"
   ]
  },
  {
   "cell_type": "code",
   "execution_count": 10,
   "metadata": {},
   "outputs": [
    {
     "data": {
      "text/plain": [
       "110"
      ]
     },
     "execution_count": 10,
     "metadata": {},
     "output_type": "execute_result"
    }
   ],
   "source": [
    "#show image resize\n",
    "cv2.imshow(\"Fixed Resizing\", resized)\n",
    "cv2.waitKey(0)"
   ]
  },
  {
   "cell_type": "code",
   "execution_count": 7,
   "metadata": {},
   "outputs": [],
   "source": [
    "# fixed resizing and distort aspect ratio so let's resize the width\n",
    "# to be 150px but compute the new height based on the aspect ratio\n",
    "r = 150.0 / w\n",
    "dim = (150, int(h * r))\n",
    "resized = cv2.resize(image, dim)"
   ]
  },
  {
   "cell_type": "code",
   "execution_count": 14,
   "metadata": {},
   "outputs": [
    {
     "data": {
      "text/plain": [
       "110"
      ]
     },
     "execution_count": 14,
     "metadata": {},
     "output_type": "execute_result"
    }
   ],
   "source": [
    "#show image\n",
    "cv2.imshow(\"Aspect Ratio Resize\", resized)\n",
    "cv2.waitKey(0)"
   ]
  },
  {
   "cell_type": "code",
   "execution_count": 8,
   "metadata": {},
   "outputs": [],
   "source": [
    "# manually computing the aspect ratio can be a pain so let's use the\n",
    "# imutils library instead\n",
    "resized = imutils.resize(image, width=150)"
   ]
  },
  {
   "cell_type": "code",
   "execution_count": 16,
   "metadata": {},
   "outputs": [
    {
     "data": {
      "text/plain": [
       "110"
      ]
     },
     "execution_count": 16,
     "metadata": {},
     "output_type": "execute_result"
    }
   ],
   "source": [
    "#show image \n",
    "cv2.imshow(\"Imutils Resize\", resized)\n",
    "cv2.waitKey(0)"
   ]
  },
  {
   "cell_type": "code",
   "execution_count": 9,
   "metadata": {},
   "outputs": [],
   "source": [
    " #If you’d like to maintain aspect ratio while resizing images with OpenCV and Python, \n",
    "#simply use imutils.resize."
   ]
  },
  {
   "cell_type": "code",
   "execution_count": 10,
   "metadata": {},
   "outputs": [],
   "source": [
    "#Now let's rotate an image 45 degrees clockwise using OpenCV by first\n",
    "# calculate the image center\n",
    "center = (w // 2, h // 2)"
   ]
  },
  {
   "cell_type": "code",
   "execution_count": 11,
   "metadata": {},
   "outputs": [],
   "source": [
    "#then constructing the rotation matrix\n",
    "M = cv2.getRotationMatrix2D(center, -45, 1.0)"
   ]
  },
  {
   "cell_type": "code",
   "execution_count": 12,
   "metadata": {},
   "outputs": [],
   "source": [
    "# finally applying the affine warp\n",
    "rotated = cv2.warpAffine(image, M, (w, h))"
   ]
  },
  {
   "cell_type": "code",
   "execution_count": 13,
   "metadata": {},
   "outputs": [
    {
     "data": {
      "text/plain": [
       "110"
      ]
     },
     "execution_count": 13,
     "metadata": {},
     "output_type": "execute_result"
    }
   ],
   "source": [
    "#show the image rotate\n",
    "cv2.imshow(\"OpenCV Rotation\", rotated)\n",
    "cv2.waitKey(0)"
   ]
  },
  {
   "cell_type": "code",
   "execution_count": 14,
   "metadata": {},
   "outputs": [],
   "source": [
    "# rotation can also be easily accomplished via imutils with less code\n",
    "rotated = imutils.rotate(image, -45)"
   ]
  },
  {
   "cell_type": "code",
   "execution_count": 15,
   "metadata": {},
   "outputs": [
    {
     "data": {
      "text/plain": [
       "106"
      ]
     },
     "execution_count": 15,
     "metadata": {},
     "output_type": "execute_result"
    }
   ],
   "source": [
    "#show image rotated\n",
    "cv2.imshow(\"Imutils Rotation\", rotated)\n",
    "cv2.waitKey(0)"
   ]
  },
  {
   "cell_type": "code",
   "execution_count": 16,
   "metadata": {},
   "outputs": [],
   "source": [
    "# OpenCV doesn't \"care\" if our rotated image is clipped after rotation\n",
    "# so we can instead use another imutils convenience function to help\n",
    "# us out\n",
    "rotated = imutils.rotate_bound(image, 45)"
   ]
  },
  {
   "cell_type": "code",
   "execution_count": 17,
   "metadata": {},
   "outputs": [
    {
     "data": {
      "text/plain": [
       "104"
      ]
     },
     "execution_count": 17,
     "metadata": {},
     "output_type": "execute_result"
    }
   ],
   "source": [
    "#show image\n",
    "cv2.imshow(\"Imutils Bound Rotation\", rotated)\n",
    "cv2.waitKey(0)"
   ]
  },
  {
   "cell_type": "code",
   "execution_count": 24,
   "metadata": {},
   "outputs": [],
   "source": [
    "# apply a Gaussian blur with a 11x11 kernel to the image to smooth it,\n",
    "# useful when reducing high frequency noise\n",
    "blurred = cv2.GaussianBlur(image, (11, 11), 0)"
   ]
  },
  {
   "cell_type": "code",
   "execution_count": 25,
   "metadata": {},
   "outputs": [
    {
     "data": {
      "text/plain": [
       "106"
      ]
     },
     "execution_count": 25,
     "metadata": {},
     "output_type": "execute_result"
    }
   ],
   "source": [
    "#show image blurred\n",
    "cv2.imshow(\"Blurred\", blurred)\n",
    "cv2.waitKey(0)"
   ]
  },
  {
   "cell_type": "code",
   "execution_count": 33,
   "metadata": {},
   "outputs": [
    {
     "data": {
      "text/plain": [
       "array([[[ 13,  21,  50],\n",
       "        [ 16,  20,  49],\n",
       "        [ 25,  17,  47],\n",
       "        ...,\n",
       "        [ 32,  28,  53],\n",
       "        [ 32,  28,  53],\n",
       "        [ 25,  22,  44]],\n",
       "\n",
       "       [[ 30,  35,  66],\n",
       "        [ 32,  34,  65],\n",
       "        [ 39,  32,  65],\n",
       "        ...,\n",
       "        [ 50,  42,  72],\n",
       "        [ 49,  42,  69],\n",
       "        [ 42,  35,  62]],\n",
       "\n",
       "       [[ 35,  36,  74],\n",
       "        [ 37,  34,  73],\n",
       "        [ 41,  33,  73],\n",
       "        ...,\n",
       "        [ 55,  42,  80],\n",
       "        [ 54,  42,  78],\n",
       "        [ 47,  36,  69]],\n",
       "\n",
       "       ...,\n",
       "\n",
       "       [[227, 232, 230],\n",
       "        [244, 255, 252],\n",
       "        [231, 253, 251],\n",
       "        ...,\n",
       "        [ 89, 189, 254],\n",
       "        [ 84, 176, 247],\n",
       "        [ 39, 129, 200]],\n",
       "\n",
       "       [[231, 232, 228],\n",
       "        [250, 255, 253],\n",
       "        [240, 253, 251],\n",
       "        ...,\n",
       "        [ 80, 184, 253],\n",
       "        [ 77, 172, 245],\n",
       "        [ 32, 125, 200]],\n",
       "\n",
       "       [[235, 232, 227],\n",
       "        [255, 255, 251],\n",
       "        [252, 252, 252],\n",
       "        ...,\n",
       "        [ 78, 185, 253],\n",
       "        [ 75, 173, 245],\n",
       "        [ 31, 126, 200]]], dtype=uint8)"
      ]
     },
     "execution_count": 33,
     "metadata": {},
     "output_type": "execute_result"
    }
   ],
   "source": [
    "# draw a 2px thick red rectangle surrounding the face\n",
    "output = image.copy()\n",
    "cv2.rectangle(output, (60, 164), (120, 220), (0, 0, 255), 2)"
   ]
  },
  {
   "cell_type": "code",
   "execution_count": 34,
   "metadata": {},
   "outputs": [
    {
     "data": {
      "text/plain": [
       "98"
      ]
     },
     "execution_count": 34,
     "metadata": {},
     "output_type": "execute_result"
    }
   ],
   "source": [
    "#show output\n",
    "cv2.imshow(\"Rectangle\", output)\n",
    "cv2.waitKey(0)"
   ]
  },
  {
   "cell_type": "code",
   "execution_count": 45,
   "metadata": {},
   "outputs": [
    {
     "data": {
      "text/plain": [
       "array([[[ 13,  21,  50],\n",
       "        [ 16,  20,  49],\n",
       "        [ 25,  17,  47],\n",
       "        ...,\n",
       "        [ 32,  28,  53],\n",
       "        [ 32,  28,  53],\n",
       "        [ 25,  22,  44]],\n",
       "\n",
       "       [[ 30,  35,  66],\n",
       "        [ 32,  34,  65],\n",
       "        [ 39,  32,  65],\n",
       "        ...,\n",
       "        [ 50,  42,  72],\n",
       "        [ 49,  42,  69],\n",
       "        [ 42,  35,  62]],\n",
       "\n",
       "       [[ 35,  36,  74],\n",
       "        [ 37,  34,  73],\n",
       "        [ 41,  33,  73],\n",
       "        ...,\n",
       "        [ 55,  42,  80],\n",
       "        [ 54,  42,  78],\n",
       "        [ 47,  36,  69]],\n",
       "\n",
       "       ...,\n",
       "\n",
       "       [[227, 232, 230],\n",
       "        [244, 255, 252],\n",
       "        [231, 253, 251],\n",
       "        ...,\n",
       "        [ 89, 189, 254],\n",
       "        [ 84, 176, 247],\n",
       "        [ 39, 129, 200]],\n",
       "\n",
       "       [[231, 232, 228],\n",
       "        [250, 255, 253],\n",
       "        [240, 253, 251],\n",
       "        ...,\n",
       "        [ 80, 184, 253],\n",
       "        [ 77, 172, 245],\n",
       "        [ 32, 125, 200]],\n",
       "\n",
       "       [[235, 232, 227],\n",
       "        [255, 255, 251],\n",
       "        [252, 252, 252],\n",
       "        ...,\n",
       "        [ 78, 185, 253],\n",
       "        [ 75, 173, 245],\n",
       "        [ 31, 126, 200]]], dtype=uint8)"
      ]
     },
     "execution_count": 45,
     "metadata": {},
     "output_type": "execute_result"
    }
   ],
   "source": [
    "# draw a blue 20px (filled in) circle on the image centered at\n",
    "# x=300,y=150\n",
    "output = image.copy()\n",
    "cv2.circle(output, (100, 160), 20, (255, 0, 0), -1)"
   ]
  },
  {
   "cell_type": "code",
   "execution_count": 46,
   "metadata": {},
   "outputs": [
    {
     "data": {
      "text/plain": [
       "98"
      ]
     },
     "execution_count": 46,
     "metadata": {},
     "output_type": "execute_result"
    }
   ],
   "source": [
    "#show image\n",
    "cv2.imshow(\"Circle\", output)\n",
    "cv2.waitKey(0)"
   ]
  },
  {
   "cell_type": "code",
   "execution_count": 49,
   "metadata": {},
   "outputs": [
    {
     "data": {
      "text/plain": [
       "array([[[ 13,  21,  50],\n",
       "        [ 16,  20,  49],\n",
       "        [ 25,  17,  47],\n",
       "        ...,\n",
       "        [ 32,  28,  53],\n",
       "        [ 32,  28,  53],\n",
       "        [ 25,  22,  44]],\n",
       "\n",
       "       [[ 30,  35,  66],\n",
       "        [ 32,  34,  65],\n",
       "        [ 39,  32,  65],\n",
       "        ...,\n",
       "        [ 50,  42,  72],\n",
       "        [ 49,  42,  69],\n",
       "        [ 42,  35,  62]],\n",
       "\n",
       "       [[ 35,  36,  74],\n",
       "        [ 37,  34,  73],\n",
       "        [ 41,  33,  73],\n",
       "        ...,\n",
       "        [ 55,  42,  80],\n",
       "        [ 54,  42,  78],\n",
       "        [ 47,  36,  69]],\n",
       "\n",
       "       ...,\n",
       "\n",
       "       [[227, 232, 230],\n",
       "        [244, 255, 252],\n",
       "        [231, 253, 251],\n",
       "        ...,\n",
       "        [ 89, 189, 254],\n",
       "        [ 84, 176, 247],\n",
       "        [ 39, 129, 200]],\n",
       "\n",
       "       [[231, 232, 228],\n",
       "        [250, 255, 253],\n",
       "        [240, 253, 251],\n",
       "        ...,\n",
       "        [ 80, 184, 253],\n",
       "        [ 77, 172, 245],\n",
       "        [ 32, 125, 200]],\n",
       "\n",
       "       [[235, 232, 227],\n",
       "        [255, 255, 251],\n",
       "        [252, 252, 252],\n",
       "        ...,\n",
       "        [ 78, 185, 253],\n",
       "        [ 75, 173, 245],\n",
       "        [ 31, 126, 200]]], dtype=uint8)"
      ]
     },
     "execution_count": 49,
     "metadata": {},
     "output_type": "execute_result"
    }
   ],
   "source": [
    "# draw a 5px thick red line from x=60,y=20 to x=400,y=200\n",
    "output = image.copy()\n",
    "cv2.line(output, (60, 164), (120, 220), (0, 0, 255), 5)"
   ]
  },
  {
   "cell_type": "code",
   "execution_count": 50,
   "metadata": {},
   "outputs": [
    {
     "data": {
      "text/plain": [
       "99"
      ]
     },
     "execution_count": 50,
     "metadata": {},
     "output_type": "execute_result"
    }
   ],
   "source": [
    "#show image\n",
    "cv2.imshow(\"Line\", output)\n",
    "cv2.waitKey(0)"
   ]
  },
  {
   "cell_type": "code",
   "execution_count": 51,
   "metadata": {},
   "outputs": [
    {
     "data": {
      "text/plain": [
       "array([[[ 13,  21,  50],\n",
       "        [ 16,  20,  49],\n",
       "        [ 25,  17,  47],\n",
       "        ...,\n",
       "        [ 32,  28,  53],\n",
       "        [ 32,  28,  53],\n",
       "        [ 25,  22,  44]],\n",
       "\n",
       "       [[ 30,  35,  66],\n",
       "        [ 32,  34,  65],\n",
       "        [ 39,  32,  65],\n",
       "        ...,\n",
       "        [ 50,  42,  72],\n",
       "        [ 49,  42,  69],\n",
       "        [ 42,  35,  62]],\n",
       "\n",
       "       [[ 35,  36,  74],\n",
       "        [ 37,  34,  73],\n",
       "        [ 41,  33,  73],\n",
       "        ...,\n",
       "        [ 55,  42,  80],\n",
       "        [ 54,  42,  78],\n",
       "        [ 47,  36,  69]],\n",
       "\n",
       "       ...,\n",
       "\n",
       "       [[227, 232, 230],\n",
       "        [244, 255, 252],\n",
       "        [231, 253, 251],\n",
       "        ...,\n",
       "        [ 89, 189, 254],\n",
       "        [ 84, 176, 247],\n",
       "        [ 39, 129, 200]],\n",
       "\n",
       "       [[231, 232, 228],\n",
       "        [250, 255, 253],\n",
       "        [240, 253, 251],\n",
       "        ...,\n",
       "        [ 80, 184, 253],\n",
       "        [ 77, 172, 245],\n",
       "        [ 32, 125, 200]],\n",
       "\n",
       "       [[235, 232, 227],\n",
       "        [255, 255, 251],\n",
       "        [252, 252, 252],\n",
       "        ...,\n",
       "        [ 78, 185, 253],\n",
       "        [ 75, 173, 245],\n",
       "        [ 31, 126, 200]]], dtype=uint8)"
      ]
     },
     "execution_count": 51,
     "metadata": {},
     "output_type": "execute_result"
    }
   ],
   "source": [
    "# draw green text on the image\n",
    "output = image.copy()\n",
    "cv2.putText(output, \"OpenCV + One Piece!!!\", (10, 25), \n",
    "\tcv2.FONT_HERSHEY_SIMPLEX, 0.7, (0, 255, 0), 2)"
   ]
  },
  {
   "cell_type": "code",
   "execution_count": 52,
   "metadata": {},
   "outputs": [
    {
     "data": {
      "text/plain": [
       "108"
      ]
     },
     "execution_count": 52,
     "metadata": {},
     "output_type": "execute_result"
    }
   ],
   "source": [
    "#show image\n",
    "cv2.imshow(\"Text\", output)\n",
    "cv2.waitKey(0)"
   ]
  },
  {
   "cell_type": "code",
   "execution_count": null,
   "metadata": {},
   "outputs": [],
   "source": []
  }
 ],
 "metadata": {
  "kernelspec": {
   "display_name": "Python 3",
   "language": "python",
   "name": "python3"
  },
  "language_info": {
   "codemirror_mode": {
    "name": "ipython",
    "version": 3
   },
   "file_extension": ".py",
   "mimetype": "text/x-python",
   "name": "python",
   "nbconvert_exporter": "python",
   "pygments_lexer": "ipython3",
   "version": "3.6.7"
  }
 },
 "nbformat": 4,
 "nbformat_minor": 4
}
